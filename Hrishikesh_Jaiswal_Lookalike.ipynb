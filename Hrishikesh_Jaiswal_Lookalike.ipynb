{
 "cells": [
  {
   "cell_type": "code",
   "execution_count": 5,
   "id": "76bb675e",
   "metadata": {},
   "outputs": [],
   "source": [
    "import pandas as pd\n",
    "import numpy as np\n",
    "from sklearn.preprocessing import StandardScaler\n",
    "from sklearn.metrics.pairwise import cosine_similarity"
   ]
  },
  {
   "cell_type": "code",
   "execution_count": 6,
   "id": "729bc877",
   "metadata": {},
   "outputs": [],
   "source": [
    "customers_df = pd.read_csv('Customers.csv')\n",
    "products_df = pd.read_csv('Products.csv')\n",
    "transactions_df = pd.read_csv('Transactions.csv')"
   ]
  },
  {
   "cell_type": "code",
   "execution_count": 22,
   "id": "b5edf598",
   "metadata": {},
   "outputs": [],
   "source": [
    "customers_df[\"SignupDate\"] = pd.to_datetime(customers_df[\"SignupDate\"], errors=\"coerce\")\n",
    "transactions_df[\"TransactionDate\"] = pd.to_datetime(transactions_df[\"TransactionDate\"], errors=\"coerce\")"
   ]
  },
  {
   "cell_type": "code",
   "execution_count": 24,
   "id": "556a7d4b",
   "metadata": {},
   "outputs": [],
   "source": [
    "customer_transactions = transactions_df.groupby(\"CustomerID\").agg(\n",
    "    total_spent=(\"TotalValue\", \"sum\"),\n",
    "    avg_spent=(\"TotalValue\", \"mean\"),\n",
    "    num_transactions=(\"TransactionID\", \"count\"),\n",
    "    distinct_products=(\"ProductID\", \"nunique\")\n",
    ").reset_index()"
   ]
  },
  {
   "cell_type": "code",
   "execution_count": 8,
   "id": "e74447b7",
   "metadata": {},
   "outputs": [],
   "source": [
    "customer_features = customers_df.merge(customer_transactions, on=\"CustomerID\", how=\"left\")"
   ]
  },
  {
   "cell_type": "code",
   "execution_count": 9,
   "id": "ab1653fa",
   "metadata": {},
   "outputs": [],
   "source": [
    "customer_features.fillna(0, inplace=True)"
   ]
  },
  {
   "cell_type": "code",
   "execution_count": 10,
   "id": "30bd16cb",
   "metadata": {},
   "outputs": [],
   "source": [
    "customer_features = pd.get_dummies(customer_features, columns=[\"Region\"], drop_first=True)"
   ]
  },
  {
   "cell_type": "code",
   "execution_count": 11,
   "id": "99e9a8b1",
   "metadata": {},
   "outputs": [],
   "source": [
    "scaler = StandardScaler()\n",
    "scaled_features = scaler.fit_transform(customer_features.drop(columns=[\"CustomerID\", \"CustomerName\", \"SignupDate\"]))"
   ]
  },
  {
   "cell_type": "code",
   "execution_count": 12,
   "id": "ccb4a8da",
   "metadata": {},
   "outputs": [],
   "source": [
    "similarity_matrix = cosine_similarity(scaled_features)"
   ]
  },
  {
   "cell_type": "code",
   "execution_count": 13,
   "id": "4be07ea1",
   "metadata": {},
   "outputs": [],
   "source": [
    "similarity_df = pd.DataFrame(similarity_matrix, index=customer_features[\"CustomerID\"], columns=customer_features[\"CustomerID\"])"
   ]
  },
  {
   "cell_type": "code",
   "execution_count": 25,
   "id": "354fc6b8",
   "metadata": {},
   "outputs": [],
   "source": [
    "def get_top_similar_customers(customer_id, top_n=3):\n",
    "    if customer_id in similarity_df.index:\n",
    "        similar_customers = similarity_df[customer_id].sort_values(ascending=False).iloc[1:top_n+1]\n",
    "        return list(zip(similar_customers.index, similar_customers.values))\n",
    "    return []"
   ]
  },
  {
   "cell_type": "code",
   "execution_count": 15,
   "id": "93ebb309",
   "metadata": {},
   "outputs": [],
   "source": [
    "lookalike_dict = {cust_id: get_top_similar_customers(cust_id) for cust_id in customer_features[\"CustomerID\"][:20]}"
   ]
  },
  {
   "cell_type": "code",
   "execution_count": 18,
   "id": "caa61603",
   "metadata": {},
   "outputs": [],
   "source": [
    "lookalike_list = []\n",
    "for cust_id, similar_list in lookalike_dict.items():\n",
    "    entry = [cust_id]\n",
    "    for sim_cust in similar_list:\n",
    "        entry.extend(sim_cust)  # Add Customer ID and Score\n",
    "    while len(entry) < 7:  # Ensure each row has exactly 7 elements (CustomerID + 3 pairs)\n",
    "        entry.extend([\"\", \"\"])  # Fill missing values\n",
    "    lookalike_list.append(entry)"
   ]
  },
  {
   "cell_type": "code",
   "execution_count": 19,
   "id": "f37a10de",
   "metadata": {},
   "outputs": [],
   "source": [
    "lookalike_df = pd.DataFrame(lookalike_list, columns=[\"CustomerID\", \"Lookalike1\", \"Score1\", \"Lookalike2\", \"Score2\", \"Lookalike3\", \"Score3\"])"
   ]
  },
  {
   "cell_type": "code",
   "execution_count": 33,
   "id": "2816479b",
   "metadata": {},
   "outputs": [
    {
     "data": {
      "text/html": [
       "<div>\n",
       "<style scoped>\n",
       "    .dataframe tbody tr th:only-of-type {\n",
       "        vertical-align: middle;\n",
       "    }\n",
       "\n",
       "    .dataframe tbody tr th {\n",
       "        vertical-align: top;\n",
       "    }\n",
       "\n",
       "    .dataframe thead th {\n",
       "        text-align: right;\n",
       "    }\n",
       "</style>\n",
       "<table border=\"1\" class=\"dataframe\">\n",
       "  <thead>\n",
       "    <tr style=\"text-align: right;\">\n",
       "      <th></th>\n",
       "      <th>CustomerID</th>\n",
       "      <th>Lookalike1</th>\n",
       "      <th>Score1</th>\n",
       "      <th>Lookalike2</th>\n",
       "      <th>Score2</th>\n",
       "      <th>Lookalike3</th>\n",
       "      <th>Score3</th>\n",
       "    </tr>\n",
       "  </thead>\n",
       "  <tbody>\n",
       "    <tr>\n",
       "      <th>0</th>\n",
       "      <td>C0001</td>\n",
       "      <td>C0137</td>\n",
       "      <td>0.999922</td>\n",
       "      <td>C0152</td>\n",
       "      <td>0.999841</td>\n",
       "      <td>C0107</td>\n",
       "      <td>0.988338</td>\n",
       "    </tr>\n",
       "    <tr>\n",
       "      <th>1</th>\n",
       "      <td>C0002</td>\n",
       "      <td>C0142</td>\n",
       "      <td>0.976174</td>\n",
       "      <td>C0043</td>\n",
       "      <td>0.971090</td>\n",
       "      <td>C0128</td>\n",
       "      <td>0.918808</td>\n",
       "    </tr>\n",
       "    <tr>\n",
       "      <th>2</th>\n",
       "      <td>C0003</td>\n",
       "      <td>C0133</td>\n",
       "      <td>0.995125</td>\n",
       "      <td>C0052</td>\n",
       "      <td>0.967150</td>\n",
       "      <td>C0112</td>\n",
       "      <td>0.949261</td>\n",
       "    </tr>\n",
       "    <tr>\n",
       "      <th>3</th>\n",
       "      <td>C0004</td>\n",
       "      <td>C0108</td>\n",
       "      <td>0.981744</td>\n",
       "      <td>C0113</td>\n",
       "      <td>0.979237</td>\n",
       "      <td>C0155</td>\n",
       "      <td>0.968232</td>\n",
       "    </tr>\n",
       "    <tr>\n",
       "      <th>4</th>\n",
       "      <td>C0005</td>\n",
       "      <td>C0159</td>\n",
       "      <td>0.999513</td>\n",
       "      <td>C0123</td>\n",
       "      <td>0.984038</td>\n",
       "      <td>C0186</td>\n",
       "      <td>0.977956</td>\n",
       "    </tr>\n",
       "  </tbody>\n",
       "</table>\n",
       "</div>"
      ],
      "text/plain": [
       "  CustomerID Lookalike1    Score1 Lookalike2    Score2 Lookalike3    Score3\n",
       "0      C0001      C0137  0.999922      C0152  0.999841      C0107  0.988338\n",
       "1      C0002      C0142  0.976174      C0043  0.971090      C0128  0.918808\n",
       "2      C0003      C0133  0.995125      C0052  0.967150      C0112  0.949261\n",
       "3      C0004      C0108  0.981744      C0113  0.979237      C0155  0.968232\n",
       "4      C0005      C0159  0.999513      C0123  0.984038      C0186  0.977956"
      ]
     },
     "execution_count": 33,
     "metadata": {},
     "output_type": "execute_result"
    }
   ],
   "source": [
    "lookalike_csv_path = 'C:/Users/DELL/Documents/zeotab challange/Hrishikesh_Jaiswal_Lookalike.csv'\n",
    "lookalike_df.to_csv(lookalike_csv_path, index=False)\n",
    "\n",
    "lookalike_df.head()"
   ]
  },
  {
   "cell_type": "code",
   "execution_count": null,
   "id": "69652dc4",
   "metadata": {},
   "outputs": [],
   "source": []
  }
 ],
 "metadata": {
  "kernelspec": {
   "display_name": "Python 3 (ipykernel)",
   "language": "python",
   "name": "python3"
  },
  "language_info": {
   "codemirror_mode": {
    "name": "ipython",
    "version": 3
   },
   "file_extension": ".py",
   "mimetype": "text/x-python",
   "name": "python",
   "nbconvert_exporter": "python",
   "pygments_lexer": "ipython3",
   "version": "3.11.3"
  }
 },
 "nbformat": 4,
 "nbformat_minor": 5
}
